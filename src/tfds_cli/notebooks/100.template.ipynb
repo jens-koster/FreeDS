{
 "cells": [
  {
   "cell_type": "markdown",
   "id": "aaacc861",
   "metadata": {},
   "source": [
    "Self check template. (this cell can and should be removed in selfcheck ntoebooks )\n"
   ]
  },
  {
   "cell_type": "code",
   "execution_count": null,
   "id": "1ad1b59d",
   "metadata": {},
   "outputs": [],
   "source": [
    "# edit the strings to describe the check\n",
    "result = {\n",
    "    \"area\": \"jupyter\",\n",
    "    \"description\" : \"Check that the template can be run.\",\n",
    "    \"passed\" : False,\n",
    "    \"message\" : \"\",\n",
    "    \"plugin\" : \"\"\n",
    "}"
   ]
  },
  {
   "cell_type": "code",
   "execution_count": 12,
   "id": "6d8fffab",
   "metadata": {},
   "outputs": [],
   "source": [
    "# do your stuff\n",
    "result[\"message\"] = 'Executed payload cell ok.'\n",
    "result[\"passed\"] = True"
   ]
  },
  {
   "cell_type": "code",
   "execution_count": 13,
   "id": "bbabf953",
   "metadata": {},
   "outputs": [
    {
     "name": "stdout",
     "output_type": "stream",
     "text": [
      "{\n",
      "    \"area\": \"jupyter\",\n",
      "    \"description\": \"Check that the template can be run.\",\n",
      "    \"passed\": true,\n",
      "    \"message\": \"Executed payload cell ok.\",\n",
      "    \"plugin\": \"\"\n",
      "}\n"
     ]
    }
   ],
   "source": [
    "import json\n",
    "print(json.dumps(result, indent=4))"
   ]
  }
 ],
 "metadata": {
  "kernelspec": {
   "display_name": "Python 3 (ipykernel)",
   "language": "python",
   "name": "python3"
  }
 },
 "nbformat": 4,
 "nbformat_minor": 5
}
